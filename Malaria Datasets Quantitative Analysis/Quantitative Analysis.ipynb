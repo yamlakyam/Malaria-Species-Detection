{
 "cells": [
  {
   "cell_type": "code",
   "execution_count": 1,
   "id": "cb1ca207",
   "metadata": {},
   "outputs": [],
   "source": [
    "# %ls"
   ]
  },
  {
   "cell_type": "code",
   "execution_count": 2,
   "id": "81587659",
   "metadata": {},
   "outputs": [],
   "source": [
    "test_annot_bbbc = '../BBBC041v1/malaria/malaria/test.json'\n",
    "train_annot_bbbc = '../BBBC041v1/malaria/malaria/training.json'"
   ]
  },
  {
   "cell_type": "code",
   "execution_count": 3,
   "id": "3cc15750",
   "metadata": {},
   "outputs": [],
   "source": [
    "import pandas as pd\n",
    "import json\n",
    "\n",
    "import os\n",
    "import xml.etree.ElementTree as ET\n",
    "from collections import Counter\n",
    "\n",
    "import pandas as pd\n",
    "import matplotlib.pyplot as plt\n",
    "import seaborn as sns\n",
    "import numpy as np"
   ]
  },
  {
   "cell_type": "code",
   "execution_count": 4,
   "id": "3b3227b0",
   "metadata": {},
   "outputs": [
    {
     "name": "stdout",
     "output_type": "stream",
     "text": [
      "['red blood cell' 'trophozoite' 'ring' 'schizont' 'difficult' 'gametocyte'] red blood cell    5614\n",
      "ring               169\n",
      "trophozoite        111\n",
      "gametocyte          12\n",
      "schizont            11\n",
      "difficult            5\n",
      "Name: category, dtype: int64\n"
     ]
    }
   ],
   "source": [
    "with open(test_annot_bbbc, 'r') as file:\n",
    "    json_data_test = json.load(file)\n",
    "\n",
    "# Normalize the JSON data\n",
    "df_test = pd.json_normalize(json_data_test, 'objects')\n",
    "\n",
    "# Extract unique categories\n",
    "unique_categories = df_test['category'].unique()\n",
    "\n",
    "test_category_counts = df_test['category'].value_counts()\n",
    "# Print unique categories\n",
    "print(unique_categories, test_category_counts)"
   ]
  },
  {
   "cell_type": "code",
   "execution_count": 5,
   "id": "d9995ed5",
   "metadata": {},
   "outputs": [
    {
     "name": "stdout",
     "output_type": "stream",
     "text": [
      "['red blood cell' 'trophozoite' 'schizont' 'difficult' 'ring' 'leukocyte'\n",
      " 'gametocyte'] red blood cell    77420\n",
      "trophozoite        1473\n",
      "difficult           441\n",
      "ring                353\n",
      "schizont            179\n",
      "gametocyte          144\n",
      "leukocyte           103\n",
      "Name: category, dtype: int64\n"
     ]
    }
   ],
   "source": [
    "with open(train_annot_bbbc, 'r') as file:\n",
    "    json_data_train = json.load(file)\n",
    "\n",
    "# Normalize the JSON data\n",
    "df_train = pd.json_normalize(json_data_train, 'objects')\n",
    "\n",
    "# Extract unique categories\n",
    "unique_categories = df_train['category'].unique()\n",
    "\n",
    "\n",
    "train_category_counts = df_train['category'].value_counts()\n",
    "# Print unique categories\n",
    "print(unique_categories,train_category_counts )"
   ]
  },
  {
   "cell_type": "code",
   "execution_count": 6,
   "id": "cf2d5425",
   "metadata": {},
   "outputs": [],
   "source": [
    "total_category_counts = test_category_counts.add(train_category_counts, fill_value=0)"
   ]
  },
  {
   "cell_type": "code",
   "execution_count": 7,
   "id": "fee183f0",
   "metadata": {},
   "outputs": [
    {
     "data": {
      "text/plain": [
       "difficult           446.0\n",
       "gametocyte          156.0\n",
       "leukocyte           103.0\n",
       "red blood cell    83034.0\n",
       "ring                522.0\n",
       "schizont            190.0\n",
       "trophozoite        1584.0\n",
       "Name: category, dtype: float64"
      ]
     },
     "execution_count": 7,
     "metadata": {},
     "output_type": "execute_result"
    }
   ],
   "source": [
    "total_category_counts"
   ]
  },
  {
   "cell_type": "code",
   "execution_count": 8,
   "id": "fb1afef2",
   "metadata": {},
   "outputs": [],
   "source": [
    "total_parsite_count = total_category_counts['gametocyte'] + total_category_counts['ring'] + total_category_counts['schizont'] + total_category_counts['trophozoite'] "
   ]
  },
  {
   "cell_type": "code",
   "execution_count": 9,
   "id": "08be2de5",
   "metadata": {},
   "outputs": [
    {
     "name": "stdout",
     "output_type": "stream",
     "text": [
      "Total parasite count :  2452.0\n"
     ]
    }
   ],
   "source": [
    "print(\"Total parasite count : \", total_parsite_count)"
   ]
  },
  {
   "cell_type": "code",
   "execution_count": null,
   "id": "eb12962d",
   "metadata": {},
   "outputs": [],
   "source": []
  },
  {
   "cell_type": "code",
   "execution_count": 10,
   "id": "652e1267",
   "metadata": {},
   "outputs": [],
   "source": [
    "data_UG = '../Uganda - Dataset B/plasmodium-phonecamera/plasmodium-phonecamera'"
   ]
  },
  {
   "cell_type": "code",
   "execution_count": 11,
   "id": "4481f733",
   "metadata": {},
   "outputs": [
    {
     "name": "stdout",
     "output_type": "stream",
     "text": [
      "UG Dataset Category Counts:\n",
      "Counter({'plasmodium': 7628})\n"
     ]
    }
   ],
   "source": [
    "def get_category_counts_from_xml(directory):\n",
    "    category_counts = Counter()\n",
    "\n",
    "    # Iterate over all files in the directory\n",
    "    for filename in os.listdir(directory):\n",
    "        if filename.endswith('.xml'):\n",
    "            file_path = os.path.join(directory, filename)\n",
    "            tree = ET.parse(file_path)\n",
    "            root = tree.getroot()\n",
    "\n",
    "            # Extract category labels from the XML file\n",
    "            for obj in root.findall('object'):\n",
    "                label = obj.find('label').text\n",
    "                category_counts[label] += 1\n",
    "\n",
    "    return category_counts\n",
    "\n",
    "# Get category counts from the XML annotation files\n",
    "category_counts_UG = get_category_counts_from_xml(data_UG)\n",
    "\n",
    "# Print results\n",
    "print(\"UG Dataset Category Counts:\")\n",
    "print(category_counts_UG)"
   ]
  },
  {
   "cell_type": "code",
   "execution_count": 12,
   "id": "b24d3c34",
   "metadata": {},
   "outputs": [
    {
     "data": {
      "text/plain": [
       "7628"
      ]
     },
     "execution_count": 12,
     "metadata": {},
     "output_type": "execute_result"
    }
   ],
   "source": [
    "category_counts_UG['plasmodium']"
   ]
  },
  {
   "cell_type": "code",
   "execution_count": null,
   "id": "4f0284dc",
   "metadata": {},
   "outputs": [],
   "source": []
  },
  {
   "cell_type": "code",
   "execution_count": 13,
   "id": "f79a3193",
   "metadata": {},
   "outputs": [],
   "source": [
    "IML_data = '../IML-Malaria/archive/annotations.json'"
   ]
  },
  {
   "cell_type": "code",
   "execution_count": 14,
   "id": "d943794a",
   "metadata": {},
   "outputs": [
    {
     "name": "stdout",
     "output_type": "stream",
     "text": [
      "Test Data - Image Count: 345\n",
      "Test Data - Category Counts:\n",
      "Counter({'red blood cell': 37899, 'gametocyte': 261, 'ring': 164, 'trophozoite': 77, 'schizont': 27, 'difficult': 21})\n"
     ]
    }
   ],
   "source": [
    "def process_json(json_data):\n",
    "    category_counter = Counter()\n",
    "    image_set = set()\n",
    "    \n",
    "    for entry in json_data:\n",
    "        image_name = entry['image_name']\n",
    "        image_set.add(image_name)\n",
    "        for obj in entry['objects']:\n",
    "            category = obj['type']\n",
    "            category_counter[category] += 1\n",
    "    \n",
    "    return category_counter, len(image_set)\n",
    "\n",
    "# Load test JSON data\n",
    "with open(IML_data, 'r') as file:\n",
    "    json_iml_data = json.load(file)\n",
    "    \n",
    "    \n",
    "    \n",
    "iml_category_counts, iml_image_count = process_json(json_iml_data)\n",
    "\n",
    "# Print results for test data\n",
    "print(\"Test Data - Image Count:\", iml_image_count)\n",
    "print(\"Test Data - Category Counts:\")\n",
    "print(iml_category_counts)"
   ]
  },
  {
   "cell_type": "code",
   "execution_count": 15,
   "id": "a13d9b69",
   "metadata": {},
   "outputs": [],
   "source": [
    "total_iml_parasite = iml_category_counts['gametocyte'] + iml_category_counts['ring'] + iml_category_counts['trophozoite'] + iml_category_counts['schizont']"
   ]
  },
  {
   "cell_type": "code",
   "execution_count": 16,
   "id": "79b2176e",
   "metadata": {},
   "outputs": [
    {
     "name": "stdout",
     "output_type": "stream",
     "text": [
      "Total IML dataset parasite count :  529\n"
     ]
    }
   ],
   "source": [
    "print(\"Total IML dataset parasite count : \", total_iml_parasite)"
   ]
  },
  {
   "cell_type": "code",
   "execution_count": null,
   "id": "887dba5c",
   "metadata": {},
   "outputs": [],
   "source": []
  },
  {
   "cell_type": "code",
   "execution_count": 17,
   "id": "c6eee901",
   "metadata": {},
   "outputs": [],
   "source": [
    "mp_idb_pf = '../MP-IDB/annotations_PF.csv'\n",
    "mp_idb_pf1 = '../MP-IDB/mp-idb-falciparum-my-label.csv'\n",
    "mp_idb_pm = '../MP-IDB/annotations_PM.csv'\n",
    "mp_idb_po = '../MP-IDB/annotations_PO.csv'\n",
    "mp_idb_pv = '../MP-IDB/annotations_PV.csv'"
   ]
  },
  {
   "cell_type": "code",
   "execution_count": 18,
   "id": "c1f5365a",
   "metadata": {},
   "outputs": [],
   "source": [
    "mp_pf_df = pd.read_csv(mp_idb_pf)\n",
    "mp_idb_pf_df = pd.read_csv(mp_idb_pf1)\n",
    "mp_pm_df = pd.read_csv(mp_idb_pm)\n",
    "mp_po_df = pd.read_csv(mp_idb_po)\n",
    "mp_pv_df = pd.read_csv(mp_idb_pv)"
   ]
  },
  {
   "cell_type": "code",
   "execution_count": 19,
   "id": "e59d2cb1",
   "metadata": {},
   "outputs": [],
   "source": [
    "pf_species_count = mp_idb_pf_df['parasite_type'].value_counts()\n",
    "pf_species_count\n",
    "\n",
    "count_pf_R = pf_species_count['ring']\n",
    "count_pf_T = pf_species_count['tro']\n",
    "count_pf_S = pf_species_count['schi']\n",
    "count_pf_G = pf_species_count['game']"
   ]
  },
  {
   "cell_type": "code",
   "execution_count": 20,
   "id": "a6dc67be",
   "metadata": {},
   "outputs": [
    {
     "data": {
      "text/plain": [
       "(1230, 42, 18, 7)"
      ]
     },
     "execution_count": 20,
     "metadata": {},
     "output_type": "execute_result"
    }
   ],
   "source": [
    "count_pf_R, count_pf_T, count_pf_S, count_pf_G"
   ]
  },
  {
   "cell_type": "code",
   "execution_count": 21,
   "id": "c849e20a",
   "metadata": {},
   "outputs": [
    {
     "name": "stdout",
     "output_type": "stream",
     "text": [
      "Weighted count of 'R' in pm: 1\n",
      "Weighted count of 'T' in pm: 23\n",
      "Weighted count of 'S' in pm: 11\n",
      "Weighted count of 'G' in pm: 8\n"
     ]
    }
   ],
   "source": [
    "\n",
    "# Initialize counters for each species\n",
    "count_pm_R = 0\n",
    "count_pm_T = 0\n",
    "count_pm_S = 0\n",
    "count_pm_G = 0\n",
    "\n",
    "# Iterate over each filename\n",
    "for filename in mp_pm_df['filename']:\n",
    "    # Check for each species indicator\n",
    "    indicators = ['R', 'T', 'S', 'G']\n",
    "    present_indicators = [ind for ind in indicators if ind in filename]\n",
    "    \n",
    "    # Calculate the weight to divide the count\n",
    "    weight = 1 / len(present_indicators)\n",
    "    \n",
    "    # Update counters for each present indicator\n",
    "    if 'R' in present_indicators:\n",
    "        count_pm_R += weight\n",
    "    if 'T' in present_indicators:\n",
    "        count_pm_T += weight\n",
    "    if 'S' in present_indicators:\n",
    "        count_pm_S += weight\n",
    "    if 'G' in present_indicators:\n",
    "        count_pm_G += weight\n",
    "\n",
    "# Output the results\n",
    "print(f\"Weighted count of 'R' in pm: {int(count_pm_R)}\")\n",
    "print(f\"Weighted count of 'T' in pm: {int(count_pm_T)}\")\n",
    "print(f\"Weighted count of 'S' in pm: {int(count_pm_S)}\")\n",
    "print(f\"Weighted count of 'G' in pm: {int(count_pm_G)}\")\n"
   ]
  },
  {
   "cell_type": "code",
   "execution_count": 22,
   "id": "582acea8",
   "metadata": {},
   "outputs": [
    {
     "name": "stdout",
     "output_type": "stream",
     "text": [
      "Weighted count of 'R' in po: 14\n",
      "Weighted count of 'T' in po: 11\n",
      "Weighted count of 'S' in po: 2\n",
      "Weighted count of 'G' in po: 7\n"
     ]
    }
   ],
   "source": [
    "# Initialize counters for each species\n",
    "count_po_R = 0\n",
    "count_po_T = 0\n",
    "count_po_S = 0\n",
    "count_po_G = 0\n",
    "\n",
    "# Iterate over each filename\n",
    "for filename in mp_po_df['filename']:\n",
    "    # Check for each species indicator\n",
    "    indicators = ['R', 'T', 'S', 'G']\n",
    "    present_indicators = [ind for ind in indicators if ind in filename]\n",
    "    \n",
    "    # Calculate the weight to divide the count\n",
    "    weight = 1 / len(present_indicators)\n",
    "    \n",
    "    # Update counters for each present indicator\n",
    "    if 'R' in present_indicators:\n",
    "        count_po_R += weight\n",
    "    if 'T' in present_indicators:\n",
    "        count_po_T += weight\n",
    "    if 'S' in present_indicators:\n",
    "        count_po_S += weight\n",
    "    if 'G' in present_indicators:\n",
    "        count_po_G += weight\n",
    "\n",
    "# Output the results\n",
    "print(f\"Weighted count of 'R' in po: {round(count_po_R)}\")\n",
    "print(f\"Weighted count of 'T' in po: {int(count_po_T)}\")\n",
    "print(f\"Weighted count of 'S' in po: {int(count_po_S)}\")\n",
    "print(f\"Weighted count of 'G' in po: {int(count_po_G)}\")"
   ]
  },
  {
   "cell_type": "code",
   "execution_count": null,
   "id": "b8984747",
   "metadata": {},
   "outputs": [],
   "source": []
  },
  {
   "cell_type": "code",
   "execution_count": 23,
   "id": "2bfe3547",
   "metadata": {},
   "outputs": [
    {
     "name": "stdout",
     "output_type": "stream",
     "text": [
      "Weighted count of 'R' in pv: 40\n",
      "Weighted count of 'T' in pv: 6\n",
      "Weighted count of 'S' in pv: 11\n",
      "Weighted count of 'G' in pv: 49\n"
     ]
    }
   ],
   "source": [
    "# Initialize counters for each species\n",
    "count_pv_R = 0\n",
    "count_pv_T = 0\n",
    "count_pv_S = 0\n",
    "count_pv_G = 0\n",
    "\n",
    "# Iterate over each filename\n",
    "for filename in mp_pv_df['filename']:\n",
    "    # Check for each species indicator\n",
    "    indicators = ['R', 'T', 'S', 'G']\n",
    "    present_indicators = [ind for ind in indicators if ind in filename]\n",
    "    \n",
    "    # Calculate the weight to divide the count\n",
    "    weight = 1 / len(present_indicators)\n",
    "    \n",
    "    # Update counters for each present indicator\n",
    "    if 'R' in present_indicators:\n",
    "        count_pv_R += weight\n",
    "    if 'T' in present_indicators:\n",
    "        count_pv_T += weight\n",
    "    if 'S' in present_indicators:\n",
    "        count_pv_S += weight\n",
    "    if 'G' in present_indicators:\n",
    "        count_pv_G += weight\n",
    "\n",
    "# Output the results\n",
    "print(f\"Weighted count of 'R' in pv: {round(count_pv_R)}\")\n",
    "print(f\"Weighted count of 'T' in pv: {int(count_pv_T)}\")\n",
    "print(f\"Weighted count of 'S' in pv: {int(count_pv_S)}\")\n",
    "print(f\"Weighted count of 'G' in pv: {int(count_pv_G)}\")"
   ]
  },
  {
   "cell_type": "code",
   "execution_count": 24,
   "id": "91241f1c",
   "metadata": {},
   "outputs": [],
   "source": [
    "mp_idb_pf_count = int(count_pf_R + count_pf_T + count_pf_S + count_pf_G)\n",
    "mp_idb_pm_count = int(count_pm_R + count_pm_T + count_pm_S + count_pm_G)\n",
    "mp_idb_po_count = int(count_po_R + count_po_T + count_po_S + count_po_G)\n",
    "mp_idb_pv_count = int(count_pv_R + count_pv_T + count_pv_S + count_pv_G)\n",
    "\n",
    "\n",
    "mp_idb_tot_parasite_count = mp_idb_pf_count + mp_idb_pm_count + mp_idb_po_count + mp_idb_pv_count\n",
    "\n",
    "\n",
    "\n",
    "mp_idb_pf_images = len(mp_pf_df['filename'].unique())\n",
    "mp_idb_pm_images = len(mp_pm_df['filename'].unique())\n",
    "mp_idb_po_images = len(mp_po_df['filename'].unique())\n",
    "mp_idb_pv_images = len(mp_pv_df['filename'].unique())"
   ]
  },
  {
   "cell_type": "code",
   "execution_count": null,
   "id": "1a06f104",
   "metadata": {},
   "outputs": [],
   "source": []
  },
  {
   "cell_type": "code",
   "execution_count": 25,
   "id": "fac7e0df",
   "metadata": {},
   "outputs": [],
   "source": [
    "data_RBC = '../MP-RBC-CMU'"
   ]
  },
  {
   "cell_type": "code",
   "execution_count": 26,
   "id": "ae0429ba",
   "metadata": {},
   "outputs": [
    {
     "name": "stdout",
     "output_type": "stream",
     "text": [
      "RW Dataset Category Counts:\n",
      "Counter({'PO': 502, 'PM': 406, 'PF': 398, 'PV': 378})\n"
     ]
    }
   ],
   "source": [
    "def get_category_counts_from_xml(directory):\n",
    "    category_counts = Counter()\n",
    "\n",
    "    # Iterate over all files in the directory\n",
    "    for filename in os.listdir(directory):\n",
    "        if filename.endswith('.xml'):\n",
    "            file_path = os.path.join(directory, filename)\n",
    "            tree = ET.parse(file_path)\n",
    "            root = tree.getroot()\n",
    "\n",
    "            # Extract category labels from the XML file\n",
    "            for obj in root.findall('object'):\n",
    "                label = obj.find('name').text  # 'name' instead of 'label' in your XML structure\n",
    "                category_counts[label] += 1\n",
    "\n",
    "    return category_counts\n",
    "\n",
    "\n",
    "category_counts_RW = get_category_counts_from_xml(data_RBC)\n",
    "\n",
    "# Print results\n",
    "print(\"RW Dataset Category Counts:\")\n",
    "print(category_counts_RW)\n"
   ]
  },
  {
   "cell_type": "code",
   "execution_count": 27,
   "id": "c40fadf6",
   "metadata": {},
   "outputs": [],
   "source": [
    "mp_rbc_pf_images = 58\n",
    "mp_rbc_pm_images =139\n",
    "mp_rbc_po_images =191\n",
    "mp_rbc_pv_images =114\n",
    "\n",
    "mp_rbc_pf_count = category_counts_RW['PF']\n",
    "mp_rbc_pm_count = category_counts_RW['PM']\n",
    "mp_rbc_po_count = category_counts_RW['PO']\n",
    "mp_rbc_pv_count = category_counts_RW['PV']"
   ]
  },
  {
   "cell_type": "code",
   "execution_count": null,
   "id": "2ac5b2ad",
   "metadata": {},
   "outputs": [],
   "source": []
  },
  {
   "cell_type": "code",
   "execution_count": 28,
   "id": "3aba879c",
   "metadata": {},
   "outputs": [
    {
     "data": {
      "text/plain": [
       "[]"
      ]
     },
     "execution_count": 28,
     "metadata": {},
     "output_type": "execute_result"
    },
    {
     "data": {
      "image/png": "[encoded data removed]",
      "text/plain": [
       "<Figure size 720x576 with 1 Axes>"
      ]
     },
     "metadata": {
      "needs_background": "light"
     },
     "output_type": "display_data"
    },
    {
     "data": {
      "image/png": "[encoded data removed]",
      "text/plain": [
       "<Figure size 720x576 with 1 Axes>"
      ]
     },
     "metadata": {
      "needs_background": "light"
     },
     "output_type": "display_data"
    }
   ],
   "source": [
    "datasets = ['BBBC041v1', 'Make', 'IML-Malaria']\n",
    "image_counts = [1328, 1182, 345]\n",
    "total_parasite_counts = [total_parsite_count, category_counts_UG['plasmodium'], total_iml_parasite]\n",
    "species = ['PV', 'PF', 'PV']\n",
    "\n",
    "mp_idb_image_counts = [mp_idb_pf_images, mp_idb_pm_images, mp_idb_po_images, mp_idb_pv_images]\n",
    "mp_idb_parasite_counts = [mp_idb_pf_count, mp_idb_pm_count, mp_idb_po_count, mp_idb_pv_count]\n",
    "mp_idb_species = ['PF', 'PM', 'PO', 'PV']\n",
    "\n",
    "mp_rbc_image_counts = [mp_rbc_pf_images, mp_rbc_pm_images, mp_rbc_po_images, mp_rbc_pv_images]\n",
    "mp_rbc_parasite_counts = [mp_rbc_pf_count, mp_rbc_pm_count, mp_rbc_po_count, mp_rbc_pv_count]\n",
    "mp_rbc_species = ['PF', 'PM', 'PO', 'PV']\n",
    "\n",
    "# Append MP-IDB data to existing data\n",
    "for i, species_name in enumerate(mp_idb_species):\n",
    "    datasets.append('MP-IDB')\n",
    "    image_counts.append(mp_idb_image_counts[i])\n",
    "    total_parasite_counts.append(mp_idb_parasite_counts[i])\n",
    "    species.append(species_name)\n",
    "    \n",
    "# Append MP-RBC data to existing data\n",
    "for i, species_name in enumerate(mp_rbc_species):\n",
    "    datasets.append('MP-RBC-CMU')\n",
    "    image_counts.append(mp_rbc_image_counts[i])\n",
    "    total_parasite_counts.append(mp_rbc_parasite_counts[i])\n",
    "    species.append(species_name)\n",
    "\n",
    "# Create a DataFrame\n",
    "data = {\n",
    "    'Dataset': datasets,\n",
    "    'Image Count': image_counts,\n",
    "    'Total Parasite Count': total_parasite_counts,\n",
    "    'Species': species\n",
    "}\n",
    "df = pd.DataFrame(data)\n",
    "\n",
    "# Create the first plot for image counts\n",
    "plt.figure(figsize=(10, 8))\n",
    "sns.barplot(x='Dataset', y='Image Count', hue='Species', data=df, palette='viridis')\n",
    "plt.title('Image Counts Across Datasets')\n",
    "plt.xlabel('Dataset')\n",
    "plt.ylabel('Image Count')\n",
    "plt.legend(title='Species', bbox_to_anchor=(1.05, 1), loc='upper left')\n",
    "plt.tight_layout()\n",
    "plt.savefig('image_counts_across_datasets.png', bbox_inches='tight')\n",
    "plt.plot()\n",
    "\n",
    "# Create the second plot for total parasite counts\n",
    "plt.figure(figsize=(10, 8))\n",
    "sns.barplot(x='Dataset', y='Total Parasite Count', hue='Species', data=df, palette='viridis')\n",
    "plt.title('Total Parasite Counts Across Datasets')\n",
    "plt.xlabel('Dataset')\n",
    "plt.ylabel('Total Parasite Count')\n",
    "plt.legend(title='Species', bbox_to_anchor=(1.05, 1), loc='upper left')\n",
    "plt.tight_layout()\n",
    "plt.savefig('total_parasite_counts_across_datasets.png', bbox_inches='tight')\n",
    "plt.plot()\n"
   ]
  },
  {
   "cell_type": "code",
   "execution_count": 29,
   "id": "b1174fcc",
   "metadata": {},
   "outputs": [
    {
     "name": "stdout",
     "output_type": "stream",
     "text": [
      "Image Counts and Total Parasite Counts Across Datasets:\n",
      "        Dataset Species  Image Count  Total Parasite Count\n",
      "0     BBBC041v1      PV         1328                2452.0\n",
      "2   IML-Malaria      PV          345                 529.0\n",
      "3        MP-IDB      PF          104                1297.0\n",
      "4        MP-IDB      PM           37                  43.0\n",
      "5        MP-IDB      PO           29                  34.0\n",
      "6        MP-IDB      PV           40                 106.0\n",
      "7    MP-RBC-CMU      PF           58                 398.0\n",
      "8    MP-RBC-CMU      PM          139                 406.0\n",
      "9    MP-RBC-CMU      PO          191                 502.0\n",
      "10   MP-RBC-CMU      PV          114                 378.0\n",
      "1        Uganda      PF         1182                7628.0\n"
     ]
    }
   ],
   "source": [
    "\n",
    "# Display the DataFrame as tables\n",
    "print(\"Image Counts and Total Parasite Counts Across Datasets:\")\n",
    "print(df[['Dataset', 'Species', 'Image Count', 'Total Parasite Count']].sort_values(by=['Dataset', 'Species']))\n",
    "\n",
    "# Optionally, you can save the DataFrame to a CSV file\n",
    "df[['Dataset', 'Species', 'Image Count', 'Total Parasite Count']].to_csv('dataset_summary.csv', index=False)\n"
   ]
  },
  {
   "cell_type": "code",
   "execution_count": null,
   "id": "30885507",
   "metadata": {},
   "outputs": [],
   "source": []
  }
 ],
 "metadata": {
  "kernelspec": {
   "display_name": "Python 3",
   "language": "python",
   "name": "python3"
  },
  "language_info": {
   "codemirror_mode": {
    "name": "ipython",
    "version": 3
   },
   "file_extension": ".py",
   "mimetype": "text/x-python",
   "name": "python",
   "nbconvert_exporter": "python",
   "pygments_lexer": "ipython3",
   "version": "3.9.12"
  }
 },
 "nbformat": 4,
 "nbformat_minor": 5
}
